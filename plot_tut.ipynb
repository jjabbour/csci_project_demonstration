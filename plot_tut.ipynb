{
 "cells": [
  {
   "cell_type": "markdown",
   "metadata": {},
   "source": [
    "\n",
    "# Plot of  trigonometric functions "
   ]
  },
  {
   "cell_type": "code",
   "execution_count": 8,
   "metadata": {
    "collapsed": false
   },
   "outputs": [],
   "source": [
    "# importing library \n",
    "import numpy as np  \n",
    "import scipy as sp\n",
    "import matplotlib.pyplot as mpl \n",
    "# command used in notebook to get the plot inline\n",
    "%matplotlib inline "
   ]
  },
  {
   "cell_type": "code",
   "execution_count": 9,
   "metadata": {
    "collapsed": false
   },
   "outputs": [],
   "source": [
    "# initializing the arrays to plot \n",
    "xs  = np.linspace(-np.pi,np.pi,100)\n",
    "ys1 = np.sin(xs)\n",
    "ys2 = np.cos(xs)"
   ]
  },
  {
   "cell_type": "code",
   "execution_count": 10,
   "metadata": {
    "collapsed": false
   },
   "outputs": [
    {
     "data": {
      "image/png": "[encoded data removed]",
      "text/plain": [
       "<matplotlib.figure.Figure at 0x7fd8dbdd7ba8>"
      ]
     },
     "metadata": {},
     "output_type": "display_data"
    }
   ],
   "source": [
    "mpl.plot(xs,ys1,'r-', label = \"sine\")   # plot the sine function in red solid line and label it as sine\n",
    "mpl.plot(xs,ys2,'b-', label = \"cosine\") # plot the cosine function in blue solid line and label it as cosine\n",
    "mpl.legend(loc = 2)                     # set the legend in NorthWest corner \n",
    "mpl.axis([-np.pi,np.pi,-1.5,1.5])       # set the max and min bound of the (x,y) axis\n",
    "mpl.xticks([-np.pi,-np.pi/2, 0,np.pi/2,np.pi],['$-\\pi$','$-\\pi/2$','0','$\\pi/2$','$\\pi$']) # set the xticks and label them\n",
    "mpl.yticks([-1,0,1], ['-1','0','1'])   # set the yticks and label them \n",
    "mpl.show()                             # show the plot "
   ]
  },
  {
   "cell_type": "code",
   "execution_count": null,
   "metadata": {
    "collapsed": false
   },
   "outputs": [],
   "source": []
  },
  {
   "cell_type": "code",
   "execution_count": null,
   "metadata": {
    "collapsed": true
   },
   "outputs": [],
   "source": []
  },
  {
   "cell_type": "code",
   "execution_count": null,
   "metadata": {
    "collapsed": true
   },
   "outputs": [],
   "source": []
  }
 ],
 "metadata": {
  "kernelspec": {
   "display_name": "Python 3",
   "language": "python",
   "name": "python3"
  },
  "language_info": {
   "codemirror_mode": {
    "name": "ipython",
    "version": 3
   },
   "file_extension": ".py",
   "mimetype": "text/x-python",
   "name": "python",
   "nbconvert_exporter": "python",
   "pygments_lexer": "ipython3",
   "version": "3.4.3"
  }
 },
 "nbformat": 4,
 "nbformat_minor": 0
}
